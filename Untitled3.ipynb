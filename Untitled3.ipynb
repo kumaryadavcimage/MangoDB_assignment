{
 "cells": [
  {
   "cell_type": "markdown",
   "id": "1964dfab-7517-4436-95e0-71ce63353d29",
   "metadata": {},
   "source": [
    "#### Q1. What is MongoDB? Explain non-relational databases in short. In which scenarios it is preferred to use MongoDB over SQL databases?"
   ]
  },
  {
   "cell_type": "markdown",
   "id": "28845d95-bdc7-474a-b083-9ed704825c0a",
   "metadata": {},
   "source": [
    "#### solve\n",
    "MongoDB is a popular non-relational, or NoSQL, database management system. Unlike traditional relational databases like SQL, MongoDB stores data in a flexible, schema-less format called BSON (Binary JSON), which allows for more dynamic and scalable data storage.\n",
    "\n",
    "Non-relational databases like MongoDB are preferred in scenarios where:\n",
    "\n",
    "- Flexible Schema: When the structure of the data is not predefined or may change frequently, MongoDB's schema-less nature is advantageous.\n",
    "\n",
    "- Scalability: MongoDB can easily scale horizontally across multiple servers, making it suitable for handling large volumes of data and high-traffic applications.\n",
    "\n",
    "- High Performance: NoSQL databases are often optimized for specific use cases, such as real-time analytics or high-speed data ingestion, making them faster for certain operations compared to traditional SQL databases.\n",
    "\n",
    "- Unstructured or Semi-Structured Data: When dealing with data that doesn't fit neatly into tables and rows, such as documents, graphs, or key-value pairs, NoSQL databases offer more flexibility.\n",
    "\n",
    "- Agile Development: NoSQL databases are well-suited for agile development methodologies where requirements evolve rapidly, as they allow for easy iteration and adaptation without rigid schema constraints."
   ]
  },
  {
   "cell_type": "markdown",
   "id": "f6139bb4-d15c-4704-9313-4f5bde458dc5",
   "metadata": {},
   "source": [
    "#### Q2. State and Explain the features of MongoDB."
   ]
  },
  {
   "cell_type": "markdown",
   "id": "bd61c9dc-a7a0-46a5-876c-67f565e2d2d0",
   "metadata": {},
   "source": [
    "#### solve\n",
    "MongoDB is a popular NoSQL database management system known for its flexibility, scalability, and performance. Here are some of its key features:\n",
    "\n",
    "- Document-Oriented: MongoDB stores data in JSON-like documents called BSON (Binary JSON), allowing for a more natural representation of complex data structures compared to traditional rows and columns in relational databases.\n",
    "\n",
    "- Schema Flexibility: MongoDB's schema-less design allows developers to store heterogeneous data with varying structures within the same collection. This flexibility enables agile development and makes it easier to adapt to changing application requirements.\n",
    "\n",
    "- High Availability: MongoDB offers built-in support for replica sets, which are asynchronous copies of data distributed across multiple servers or clusters. This ensures fault tolerance and high availability by automatically promoting a new primary node in case of failure.\n",
    "\n",
    "- Horizontal Scalability: MongoDB can scale horizontally by sharding data across multiple servers or clusters. Sharding allows for distributing data based on a shard key, enabling seamless scalability to handle large volumes of data and high throughput.\n",
    "\n",
    "- Indexing: MongoDB supports various types of indexes, including single-field, compound, geospatial, text, and wildcard indexes, to optimize query performance. Indexes help speed up data retrieval by allowing the database to quickly locate relevant documents.\n",
    "\n",
    "- Query Language: MongoDB provides a powerful and expressive query language that supports a wide range of operations, including CRUD (Create, Read, Update, Delete), aggregation, sorting, filtering, and geospatial queries. It also supports JavaScript-based server-side functions for advanced data manipulation.\n",
    "\n",
    "- Aggregation Framework: MongoDB's aggregation framework allows for complex data aggregation and transformation operations, such as grouping, sorting, filtering, and computing aggregate functions like sum, average, count, and more. This enables developers to perform advanced analytics directly within the database.\n",
    "\n",
    "- Geospatial Queries: MongoDB natively supports geospatial data types and operations, making it well-suited for applications that require location-based querying and analysis, such as mapping, geofencing, and proximity searches.\n",
    "\n",
    "- Transactions: MongoDB introduced multi-document ACID transactions in version 4.0, allowing developers to perform atomic operations on multiple documents within a single transaction. This ensures data consistency and integrity for complex transactional workflows.\n",
    "\n",
    "- Security: MongoDB provides robust security features, including authentication, authorization, encryption at rest, role-based access control (RBAC), auditing, and network encryption. These features help protect sensitive data and ensure compliance with regulatory requirements."
   ]
  },
  {
   "cell_type": "markdown",
   "id": "1bc413db-a828-466e-93da-83513216a1bf",
   "metadata": {},
   "source": [
    "#### Q3. Write a code to connect MongoDB to Python. Also, create a database and a collection in MongoDB."
   ]
  },
  {
   "cell_type": "markdown",
   "id": "6f3c18b8-3348-4e33-a881-4ca3f87f6a09",
   "metadata": {},
   "source": [
    "#### solve\n",
    " here's an example code to connect to MongoDB using Python and create a database and a collection:"
   ]
  },
  {
   "cell_type": "code",
   "execution_count": 2,
   "id": "a44b1e44-6d6e-4142-9b2f-a70fd7d284d2",
   "metadata": {},
   "outputs": [
    {
     "name": "stdout",
     "output_type": "stream",
     "text": [
      "Collecting pymongo\n",
      "  Downloading pymongo-4.7.2-cp311-cp311-win_amd64.whl.metadata (22 kB)\n",
      "Collecting dnspython<3.0.0,>=1.16.0 (from pymongo)\n",
      "  Downloading dnspython-2.6.1-py3-none-any.whl.metadata (5.8 kB)\n",
      "Downloading pymongo-4.7.2-cp311-cp311-win_amd64.whl (484 kB)\n",
      "   ---------------------------------------- 0.0/484.6 kB ? eta -:--:--\n",
      "   ---------------------------------------- 0.0/484.6 kB ? eta -:--:--\n",
      "    --------------------------------------- 10.2/484.6 kB ? eta -:--:--\n",
      "   ------ --------------------------------- 81.9/484.6 kB 1.5 MB/s eta 0:00:01\n",
      "   -------- ----------------------------- 102.4/484.6 kB 845.5 kB/s eta 0:00:01\n",
      "   ---------- --------------------------- 133.1/484.6 kB 787.7 kB/s eta 0:00:01\n",
      "   ----------- -------------------------- 143.4/484.6 kB 853.3 kB/s eta 0:00:01\n",
      "   ---------------- --------------------- 204.8/484.6 kB 831.5 kB/s eta 0:00:01\n",
      "   ---------------- --------------------- 204.8/484.6 kB 831.5 kB/s eta 0:00:01\n",
      "   -------------------------- ----------- 337.9/484.6 kB 952.6 kB/s eta 0:00:01\n",
      "   ---------------------------- --------- 368.6/484.6 kB 916.6 kB/s eta 0:00:01\n",
      "   ---------------------------------------- 484.6/484.6 kB 1.1 MB/s eta 0:00:00\n",
      "Downloading dnspython-2.6.1-py3-none-any.whl (307 kB)\n",
      "   ---------------------------------------- 0.0/307.7 kB ? eta -:--:--\n",
      "   ------------------------------- -------- 245.8/307.7 kB 7.6 MB/s eta 0:00:01\n",
      "   ---------------------------------------- 307.7/307.7 kB 4.8 MB/s eta 0:00:00\n",
      "Installing collected packages: dnspython, pymongo\n",
      "Successfully installed dnspython-2.6.1 pymongo-4.7.2\n",
      "Note: you may need to restart the kernel to use updated packages.\n"
     ]
    }
   ],
   "source": [
    "pip install pymongo"
   ]
  },
  {
   "cell_type": "code",
   "execution_count": null,
   "id": "aba2f768-5e82-478a-9169-f07fba58bd8f",
   "metadata": {},
   "outputs": [],
   "source": [
    "# Importing pymongo library to work with MongoDB\n",
    "import pymongo\n",
    "\n",
    "# Connecting to MongoDB server\n",
    "client = pymongo.MongoClient(\"mongodb://localhost:27017/\")  # Assuming MongoDB is running on localhost with default port 27017\n",
    "\n",
    "# Creating or accessing a database named \"mydatabase\"\n",
    "mydb = client[\"mydatabase\"]\n",
    "\n",
    "# Creating or accessing a collection named \"mycollection\" within the \"mydatabase\" database\n",
    "mycol = mydb[\"mycollection\"]\n",
    "\n",
    "# Inserting a document into the collection\n",
    "mydocument = {\"name\": \"John\", \"age\": 30, \"city\": \"New York\"}\n",
    "inserted_document = mycol.insert_one(mydocument)\n",
    "\n",
    "# Printing the inserted document's ID\n",
    "print(\"Inserted document ID:\", inserted_document.inserted_id)\n",
    "\n",
    "# Closing the MongoDB connection\n",
    "client.close()\n"
   ]
  },
  {
   "cell_type": "markdown",
   "id": "afeccaaf-6d96-4afc-aaee-ae9d87daf91b",
   "metadata": {},
   "source": [
    "#### Q4. Using the database and the collection created in question number 3, write a code to insert one record, and insert many records. Use the find() and find_one() methods to print the inserted record."
   ]
  },
  {
   "cell_type": "markdown",
   "id": "e34c4fa1-9b93-48ce-959e-9063e64d9778",
   "metadata": {},
   "source": [
    "#### solve\n",
    "\n",
    "Here's the code to insert one record and insert many records into the collection created earlier, and then use the find() and find_one() methods to print the inserted records:"
   ]
  },
  {
   "cell_type": "code",
   "execution_count": null,
   "id": "d934583e-89e0-4a2d-869f-189693701fd7",
   "metadata": {},
   "outputs": [],
   "source": [
    "# Importing pymongo library to work with MongoDB\n",
    "import pymongo\n",
    "\n",
    "# Connecting to MongoDB server\n",
    "client = pymongo.MongoClient(\"mongodb://localhost:27017/\")  # Assuming MongoDB is running on localhost with default port 27017\n",
    "\n",
    "# Creating or accessing a database named \"mydatabase\"\n",
    "mydb = client[\"mydatabase\"]\n",
    "\n",
    "# Creating or accessing a collection named \"mycollection\" within the \"mydatabase\" database\n",
    "mycol = mydb[\"mycollection\"]\n",
    "\n",
    "# Inserting one record into the collection\n",
    "mydocument_one = {\"name\": \"Alice\", \"age\": 25, \"city\": \"Los Angeles\"}\n",
    "inserted_document_one = mycol.insert_one(mydocument_one)\n",
    "\n",
    "# Printing the inserted document using find_one()\n",
    "print(\"Inserted document using find_one():\")\n",
    "print(mycol.find_one({\"_id\": inserted_document_one.inserted_id}))\n",
    "\n",
    "# Inserting many records into the collection\n",
    "mydocuments_many = [\n",
    "    {\"name\": \"Bob\", \"age\": 35, \"city\": \"Chicago\"},\n",
    "    {\"name\": \"Carol\", \"age\": 40, \"city\": \"Houston\"},\n",
    "    {\"name\": \"David\", \"age\": 30, \"city\": \"Miami\"}\n",
    "]\n",
    "inserted_documents_many = mycol.insert_many(mydocuments_many)\n",
    "\n",
    "# Printing the inserted documents using find()\n",
    "print(\"\\nInserted documents using find():\")\n",
    "for document in mycol.find({\"_id\": {\"$in\": inserted_documents_many.inserted_ids}}):\n",
    "    print(document)\n",
    "\n",
    "# Closing the MongoDB connection\n",
    "client.close()\n"
   ]
  },
  {
   "cell_type": "markdown",
   "id": "2952572d-d8fc-4477-b07a-e0632c7ae575",
   "metadata": {},
   "source": [
    "#### Q5. Explain how you can use the find() method to query the MongoDB database. Write a simple code to demonstrate this."
   ]
  },
  {
   "cell_type": "markdown",
   "id": "692b35f1-84cf-4d84-a68e-0fe144e4416d",
   "metadata": {},
   "source": [
    "#### solve\n",
    "The find() method in MongoDB is used to query documents in a collection based on specified criteria. It allows you to retrieve documents that match a given query condition or filter.\n",
    "\n",
    "Here's how you can use the find() method:\n",
    "\n",
    "- Basic Querying: You can pass a filter object to the find() method to retrieve documents that match the specified criteria. The filter object can contain one or more key-value pairs representing the fields and their values to match.\n",
    "\n",
    "- Projection: You can specify which fields to include or exclude from the returned documents using the projection parameter. This allows you to retrieve only the necessary fields, which can improve query performance and reduce network overhead.\n",
    "\n",
    "- Sorting: You can sort the returned documents based on one or more fields using the sort parameter. This allows you to control the order in which documents are returned, either in ascending or descending order.\n",
    "\n",
    "- Limiting Results: You can limit the number of documents returned by specifying the limit parameter. This is useful when you only need a subset of the matching documents.\n",
    "\n",
    "- Skipping Results: You can skip a certain number of documents from the beginning of the result set using the skip parameter. This is useful for pagination, where you want to retrieve documents in batches.\n",
    "\n",
    "- Here's a simple code example demonstrating the usage of the find() method:"
   ]
  },
  {
   "cell_type": "code",
   "execution_count": null,
   "id": "dc17da01-2ca2-4d38-a09b-badb78d74784",
   "metadata": {},
   "outputs": [],
   "source": [
    "# Importing pymongo library to work with MongoDB\n",
    "import pymongo\n",
    "\n",
    "# Connecting to MongoDB server\n",
    "client = pymongo.MongoClient(\"mongodb://localhost:27017/\")  # Assuming MongoDB is running on localhost with default port 27017\n",
    "\n",
    "# Creating or accessing a database named \"mydatabase\"\n",
    "mydb = client[\"mydatabase\"]\n",
    "\n",
    "# Creating or accessing a collection named \"mycollection\" within the \"mydatabase\" database\n",
    "mycol = mydb[\"mycollection\"]\n",
    "\n",
    "# Inserting some sample documents into the collection (for demonstration purposes)\n",
    "sample_documents = [\n",
    "    {\"name\": \"Alice\", \"age\": 25, \"city\": \"Los Angeles\"},\n",
    "    {\"name\": \"Bob\", \"age\": 35, \"city\": \"Chicago\"},\n",
    "    {\"name\": \"Carol\", \"age\": 40, \"city\": \"Houston\"},\n",
    "    {\"name\": \"David\", \"age\": 30, \"city\": \"Miami\"}\n",
    "]\n",
    "mycol.insert_many(sample_documents)\n",
    "\n",
    "# Querying the collection to find documents where age is greater than 30\n",
    "query_criteria = {\"age\": {\"$gt\": 30}}\n",
    "result = mycol.find(query_criteria)\n",
    "\n",
    "# Printing the matching documents\n",
    "print(\"Documents where age is greater than 30:\")\n",
    "for document in result:\n",
    "    print(document)\n",
    "\n",
    "# Closing the MongoDB connection\n",
    "client.close()\n"
   ]
  },
  {
   "cell_type": "markdown",
   "id": "df9a193f-6a34-4b1c-8587-841ffcd45e12",
   "metadata": {},
   "source": [
    "#### Q6. Explain the sort() method. Give an example to demonstrate sorting in MongoDB."
   ]
  },
  {
   "cell_type": "markdown",
   "id": "3e20a4bf-3e1f-42c1-a005-c20a08222e70",
   "metadata": {},
   "source": [
    "#### solve\n",
    "The sort() method in MongoDB is used to sort the results of a query based on one or more fields in ascending or descending order. It allows you to control the order in which documents are returned, making it useful for organizing data for presentation or analysis.\n",
    "\n",
    "Here's an overview of how the sort() method works:\n",
    "\n",
    "- Sorting by Single Field: You can specify a single field by which to sort the documents. By default, sorting is done in ascending order. To sort in descending order, you can specify -1 as the value for the field in the sort criteria.\n",
    "\n",
    "- Sorting by Multiple Fields: You can sort by multiple fields by passing an array of sort criteria, where each element specifies a field and its sort order.\n",
    "\n",
    "- Index Usage: MongoDB can use indexes to efficiently sort query results. If an index exists on the field(s) being sorted, MongoDB can use it to quickly retrieve and return the sorted documents.\n",
    "\n",
    " Here's an example to demonstrate sorting in MongoDB:"
   ]
  },
  {
   "cell_type": "code",
   "execution_count": null,
   "id": "b583fe33-f16b-4d93-817f-5e9bce8b47d8",
   "metadata": {},
   "outputs": [],
   "source": [
    "# Importing pymongo library to work with MongoDB\n",
    "import pymongo\n",
    "\n",
    "# Connecting to MongoDB server\n",
    "client = pymongo.MongoClient(\"mongodb://localhost:27017/\")  # Assuming MongoDB is running on localhost with default port 27017\n",
    "\n",
    "# Creating or accessing a database named \"mydatabase\"\n",
    "mydb = client[\"mydatabase\"]\n",
    "\n",
    "# Creating or accessing a collection named \"mycollection\" within the \"mydatabase\" database\n",
    "mycol = mydb[\"mycollection\"]\n",
    "\n",
    "# Inserting some sample documents into the collection (for demonstration purposes)\n",
    "sample_documents = [\n",
    "    {\"name\": \"Alice\", \"age\": 25, \"city\": \"Los Angeles\"},\n",
    "    {\"name\": \"Bob\", \"age\": 35, \"city\": \"Chicago\"},\n",
    "    {\"name\": \"Carol\", \"age\": 40, \"city\": \"Houston\"},\n",
    "    {\"name\": \"David\", \"age\": 30, \"city\": \"Miami\"}\n",
    "]\n",
    "mycol.insert_many(sample_documents)\n",
    "\n",
    "# Querying the collection and sorting documents by age in ascending order\n",
    "result_asc = mycol.find().sort(\"age\")  # Sorting by age in ascending order\n",
    "\n",
    "# Printing the sorted documents in ascending order\n",
    "print(\"Documents sorted by age in ascending order:\")\n",
    "for document in result_asc:\n",
    "    print(document)\n",
    "\n",
    "# Querying the collection and sorting documents by age in descending order\n",
    "result_desc = mycol.find().sort(\"age\", pymongo.DESCENDING)  # Sorting by age in descending order\n",
    "\n",
    "# Printing the sorted documents in descending order\n",
    "print(\"\\nDocuments sorted by age in descending order:\")\n",
    "for document in result_desc:\n",
    "    print(document)\n",
    "\n",
    "# Closing the MongoDB connection\n",
    "client.close()\n"
   ]
  },
  {
   "cell_type": "markdown",
   "id": "57bb3742-eb4f-49e4-8bea-46a2bae2c29e",
   "metadata": {},
   "source": [
    "#### Q7. Explain why delete_one(), delete_many(), and drop() is used."
   ]
  },
  {
   "cell_type": "markdown",
   "id": "ecbb24c8-cf9a-4afe-9abd-6848b58cfcce",
   "metadata": {},
   "source": [
    "#### solve\n",
    "\n",
    "The methods delete_one(), delete_many(), and drop() in MongoDB are used to remove documents or entire collections from the database. Each method serves a specific purpose:\n",
    "\n",
    "1.delete_one(): This method is used to delete a single document from a collection that matches a specified filter. It removes the first document that matches the filter criteria.\n",
    "\n",
    "Example:"
   ]
  },
  {
   "cell_type": "code",
   "execution_count": null,
   "id": "5d880fb9-937a-4fe4-8943-85c7ea8f4189",
   "metadata": {},
   "outputs": [],
   "source": [
    "result = mycol.delete_one({\"name\": \"Alice\"})\n",
    "print(\"Deleted document count:\", result.deleted_count)\n"
   ]
  },
  {
   "cell_type": "markdown",
   "id": "5fdafd52-945f-4546-bd18-512e0cb3c922",
   "metadata": {},
   "source": [
    "####\n",
    "This code deletes one document where the \"name\" field equals \"Alice\".\n",
    "\n",
    "2.delete_many(): This method is used to delete multiple documents from a collection that match a specified filter. It removes all documents that match the filter criteria.\n",
    "\n",
    "Example:"
   ]
  },
  {
   "cell_type": "code",
   "execution_count": null,
   "id": "3a606012-b48d-4c05-9268-1577bce0db00",
   "metadata": {},
   "outputs": [],
   "source": [
    "result = mycol.delete_many({\"age\": {\"$gte\": 30}})\n",
    "print(\"Deleted document count:\", result.deleted_count)\n"
   ]
  },
  {
   "cell_type": "markdown",
   "id": "41f670fa-bf6f-40ce-9907-7ea28f6f18cf",
   "metadata": {},
   "source": [
    "#### \n",
    "This code deletes all documents where the \"age\" field is greater than or equal to 30.\n",
    "\n",
    "drop(): This method is used to drop an entire collection from the database. Dropping a collection removes all documents from that collection and also deletes all associated indexes.\n",
    "\n",
    "Example:"
   ]
  },
  {
   "cell_type": "code",
   "execution_count": null,
   "id": "6ff8c4be-fc93-40b0-8550-e9c1c2a01efc",
   "metadata": {},
   "outputs": [],
   "source": [
    "mycol.drop()"
   ]
  },
  {
   "cell_type": "markdown",
   "id": "1448ae5d-16e7-46c6-b12a-de73af1db5e5",
   "metadata": {},
   "source": [
    "#### \n",
    "This code drops the \"mycol\" collection from the database.\n",
    "\n",
    "These methods provide flexibility in managing data in MongoDB collections:\n",
    "\n",
    "- delete_one() and delete_many() allow for selective removal of documents based on specified criteria, offering granular control over data deletion.\n",
    "- drop() is useful when you want to completely remove a collection and all its contents, typically used when the collection is no longer needed or when starting fresh with a clean slate."
   ]
  },
  {
   "cell_type": "code",
   "execution_count": null,
   "id": "75be69ad-8e61-4420-8d24-e0f574aec0bc",
   "metadata": {},
   "outputs": [],
   "source": []
  }
 ],
 "metadata": {
  "kernelspec": {
   "display_name": "Python 3 (ipykernel)",
   "language": "python",
   "name": "python3"
  },
  "language_info": {
   "codemirror_mode": {
    "name": "ipython",
    "version": 3
   },
   "file_extension": ".py",
   "mimetype": "text/x-python",
   "name": "python",
   "nbconvert_exporter": "python",
   "pygments_lexer": "ipython3",
   "version": "3.11.7"
  }
 },
 "nbformat": 4,
 "nbformat_minor": 5
}
